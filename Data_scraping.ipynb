{
  "nbformat": 4,
  "nbformat_minor": 0,
  "metadata": {
    "colab": {
      "name": "khajiit_lol_league.ipynb",
      "provenance": []
    },
    "kernelspec": {
      "name": "python3",
      "display_name": "Python 3"
    },
    "language_info": {
      "name": "python"
    }
  },
  "cells": [
    {
      "cell_type": "markdown",
      "metadata": {
        "id": "WjzPeaGAdx4w"
      },
      "source": [
        "# import"
      ]
    },
    {
      "cell_type": "code",
      "metadata": {
        "id": "9V27sO-g0Bd2",
        "colab": {
          "base_uri": "https://localhost:8080/"
        },
        "outputId": "2e6f744f-9f90-4311-b13d-179356a30824"
      },
      "source": [
        "pip install fsspec"
      ],
      "execution_count": 28,
      "outputs": [
        {
          "output_type": "stream",
          "name": "stdout",
          "text": [
            "Requirement already satisfied: fsspec in /usr/local/lib/python3.7/dist-packages (2021.10.0)\n"
          ]
        }
      ]
    },
    {
      "cell_type": "code",
      "metadata": {
        "id": "-7Qnrn4lEUPe"
      },
      "source": [
        "from bs4 import BeautifulSoup\n",
        "import urllib\n",
        "import pandas as pd\n",
        "import numpy as np\n",
        "import time\n",
        "from google.colab import output\n",
        "from google.colab import files"
      ],
      "execution_count": 29,
      "outputs": []
    },
    {
      "cell_type": "markdown",
      "metadata": {
        "id": "spdvsSIjedeH"
      },
      "source": [
        "스코어보드 모음 url:\n",
        "https://lol.fandom.com/wiki/Special:CargoQuery?limit=5000&offset=0&tables=ScoreboardGames&fields=_pageName%3DPage&where=&join_on=&group_by=ScoreboardGames.OverviewPage%2C+ScoreboardGames._pageName%2C+&having=&format=&order_by_options%5B0%5D=ASC"
      ]
    },
    {
      "cell_type": "markdown",
      "metadata": {
        "id": "OheRia718L0U"
      },
      "source": [
        "#웹스크랩 함수"
      ]
    },
    {
      "cell_type": "code",
      "metadata": {
        "id": "niaRKjsVf48h"
      },
      "source": [
        "def get_score(url): #gamepedia의 대회전적 긁어오기\n",
        "#리그 scoreboard 페이지 불러오기\n",
        "  soup = BeautifulSoup(urllib.request.urlopen(url).read(), 'html.parser')\n",
        "#리그\n",
        "  def get_league(url):\n",
        "    url=url[url.find('wiki'):][5:]\n",
        "    url=url[:url.find('/')]\n",
        "    return url\n",
        "  league=get_league(url)\n",
        "#날짜\n",
        "  date=soup.find_all('span',class_=\"DateInLocal\")\n",
        "  def f_date(z):\n",
        "    y=list()\n",
        "    m=list()\n",
        "    d=list()\n",
        "    for i in range(len(z)):\n",
        "      b=str(z[i])\n",
        "      b=b[b.find('>'):]\n",
        "      b=b[1:]\n",
        "      b=b[:b.find('<')]\n",
        "      y.append(b[0:4])\n",
        "      b=b[b.find(','):]\n",
        "      b=b[1:]\n",
        "      c=b[::-1]\n",
        "      c=c[9:]\n",
        "      c=c[::-1]\n",
        "      m.append(c)\n",
        "      b=b[b.find(','):]\n",
        "      b=b[1:]\n",
        "      b=b[::-1]\n",
        "      b=b[6:]\n",
        "      b=b[::-1]\n",
        "      d.append(b)\n",
        "      z[i]=f'{y[i]}-{m[i]}-{d[i]}'\n",
        "    return z\n",
        "  date=f_date(date)\n",
        "#경기시간\n",
        "  time=soup.find_all('table',class_=\"sb\")\n",
        "  def f_time(z):\n",
        "    for i in range(len(time)):\n",
        "      a=str(time[i])\n",
        "      a=a[a.find('sb-a'):]\n",
        "      a=a[a.find('colspan'):]\n",
        "      a=a[12:a.find('<')]\n",
        "      time[i]=a\n",
        "    return z\n",
        "  time=f_time(time)\n",
        "#챔피언\n",
        "  champion=soup.find_all('div',class_=\"sb-p-champion\")\n",
        "  def f_champ(z):\n",
        "    for i in range(len(z)):\n",
        "      a=str(z[i])\n",
        "      z[i]=a[a.find('title=\"'):a.find('\"><br/></span></div>')]\n",
        "      z[i]=z[i][7:]\n",
        "    return z\n",
        "  f_champ(champion)\n",
        "  BTC=[champion[10*i] for i in range(int(len(champion)/10))]\n",
        "  BJC=[champion[10*i+1] for i in range(int(len(champion)/10))]\n",
        "  BMC=[champion[10*i+2] for i in range(int(len(champion)/10))]\n",
        "  BAC=[champion[10*i+3] for i in range(int(len(champion)/10))]\n",
        "  BSC=[champion[10*i+4] for i in range(int(len(champion)/10))]\n",
        "  RTC=[champion[10*i+5] for i in range(int(len(champion)/10))]\n",
        "  RJC=[champion[10*i+6] for i in range(int(len(champion)/10))]\n",
        "  RMC=[champion[10*i+7] for i in range(int(len(champion)/10))]\n",
        "  RAC=[champion[10*i+8] for i in range(int(len(champion)/10))]\n",
        "  RSC=[champion[10*i+9] for i in range(int(len(champion)/10))]\n",
        "#선수이름\n",
        "  name=soup.find_all('div',class_=\"sb-p-name\")\n",
        "  def f_name(z):\n",
        "    for i in range(len(z)):\n",
        "      a=str(z[i])\n",
        "      a=a[a.find('wiki'):]\n",
        "      a=a[:a.find('\"')]\n",
        "      a=a[5:]\n",
        "      z[i]=a\n",
        "    return z\n",
        "  f_name(name)\n",
        "  BT=[name[10*i] for i in range(int(len(name)/10))]\n",
        "  BJ=[name[10*i+1] for i in range(int(len(name)/10))]\n",
        "  BM=[name[10*i+2] for i in range(int(len(name)/10))]\n",
        "  BA=[name[10*i+3] for i in range(int(len(name)/10))]\n",
        "  BS=[name[10*i+4] for i in range(int(len(name)/10))]\n",
        "  RT=[name[10*i+5] for i in range(int(len(name)/10))]\n",
        "  RJ=[name[10*i+6] for i in range(int(len(name)/10))]\n",
        "  RM=[name[10*i+7] for i in range(int(len(name)/10))]\n",
        "  RA=[name[10*i+8] for i in range(int(len(name)/10))]\n",
        "  RS=[name[10*i+9] for i in range(int(len(name)/10))]\n",
        "#팀이름\n",
        "  team=soup.find_all('span',class_=\"teamname\")\n",
        "  def f_team(z):\n",
        "    for i in range(len(z)):\n",
        "      a=str(z[i])\n",
        "      a=a[a.find('</a>'):a.find('\" title=\"'):-1]\n",
        "      a=a[::-1]\n",
        "      a=a[a.find('>'):a.find('<')]\n",
        "      z[i]=a[1:]\n",
        "    return z\n",
        "  f_team(team)\n",
        "  Blue=[team[2*i] for i in range(int(len(team)/2))]\n",
        "  Red=[team[2*i+1] for i in range(int(len(team)/2))]\n",
        "#kda\n",
        "  kda=soup.find_all('div',class_=\"sb-p-stat sb-p-stat-kda\")\n",
        "  def f_kda(z):\n",
        "    for i in range(len(z)):\n",
        "      a=str(z[i])\n",
        "      a=a[a.find('>'):]\n",
        "      z[i]=a[1:a.find('<')]\n",
        "    return z\n",
        "  f_kda(kda)\n",
        "  def cal_kda(z):\n",
        "    K=list()\n",
        "    D=list()\n",
        "    A=list()\n",
        "    for i in range(len(z)):\n",
        "      q=z[i]\n",
        "      k=int(q[:q.find('/')])\n",
        "      d=q[q.find('/'):]\n",
        "      d=d[1:]\n",
        "      d=int(d[:d.find('/')])\n",
        "      a=q[q.find('/'):]\n",
        "      a=a[1:]\n",
        "      a=a[a.find('/'):]\n",
        "      a=int(a[1:])\n",
        "      K.append(k)\n",
        "      D.append(d)\n",
        "      A.append(a)\n",
        "    return K,D,A\n",
        "  K,D,A=cal_kda(kda)\n",
        "  BTK=[K[10*i] for i in range(int(len(K)/10))]\n",
        "  BJK=[K[10*i+1] for i in range(int(len(K)/10))]\n",
        "  BMK=[K[10*i+2] for i in range(int(len(K)/10))]\n",
        "  BAK=[K[10*i+3] for i in range(int(len(K)/10))]\n",
        "  BSK=[K[10*i+4] for i in range(int(len(K)/10))]\n",
        "  RTK=[K[10*i+5] for i in range(int(len(K)/10))]\n",
        "  RJK=[K[10*i+6] for i in range(int(len(K)/10))]\n",
        "  RMK=[K[10*i+7] for i in range(int(len(K)/10))]\n",
        "  RAK=[K[10*i+8] for i in range(int(len(K)/10))]\n",
        "  RSK=[K[10*i+9] for i in range(int(len(K)/10))]\n",
        "\n",
        "  BTD=[D[10*i] for i in range(int(len(D)/10))]\n",
        "  BJD=[D[10*i+1] for i in range(int(len(D)/10))]\n",
        "  BMD=[D[10*i+2] for i in range(int(len(D)/10))]\n",
        "  BAD=[D[10*i+3] for i in range(int(len(D)/10))]\n",
        "  BSD=[D[10*i+4] for i in range(int(len(D)/10))]\n",
        "  RTD=[D[10*i+5] for i in range(int(len(D)/10))]\n",
        "  RJD=[D[10*i+6] for i in range(int(len(D)/10))]\n",
        "  RMD=[D[10*i+7] for i in range(int(len(D)/10))]\n",
        "  RAD=[D[10*i+8] for i in range(int(len(D)/10))]\n",
        "  RSD=[D[10*i+9] for i in range(int(len(D)/10))]\n",
        "\n",
        "  BTA=[A[10*i] for i in range(int(len(A)/10))]\n",
        "  BJA=[A[10*i+1] for i in range(int(len(A)/10))]\n",
        "  BMA=[A[10*i+2] for i in range(int(len(A)/10))]\n",
        "  BAA=[A[10*i+3] for i in range(int(len(A)/10))]\n",
        "  BSA=[A[10*i+4] for i in range(int(len(A)/10))]\n",
        "  RTA=[A[10*i+5] for i in range(int(len(A)/10))]\n",
        "  RJA=[A[10*i+6] for i in range(int(len(A)/10))]\n",
        "  RMA=[A[10*i+7] for i in range(int(len(A)/10))]\n",
        "  RAA=[A[10*i+8] for i in range(int(len(A)/10))]\n",
        "  RSA=[A[10*i+9] for i in range(int(len(A)/10))]\n",
        "#블루팀 승리여부(1:승리, 0:패배)\n",
        "  win=soup.find_all('div',class_=(\"sb-header-vertict\"))\n",
        "  def f_bw(z):\n",
        "    for i in range(len(z)):\n",
        "      a=str(z[i])\n",
        "      a=a[a.find('>'):]\n",
        "      z[i]=a[1:a.find('<')]\n",
        "    a=list()\n",
        "    for i in range(int(len(z)/2)):\n",
        "      j=i*2\n",
        "      a.append(z[j])\n",
        "    for i in range(len(a)):\n",
        "      try: \n",
        "        a[i]=int(a[i].replace('Defeat','0').replace('Victory','1'))\n",
        "      except:\n",
        "        a[i]=np.nan\n",
        "    return a\n",
        "  win=f_bw(win)\n",
        "#획득골드\n",
        "  gold=soup.find_all('div',class_=(\"sb-p-stat sb-p-stat-gold\"))\n",
        "  def f_g(z):\n",
        "    for i in range(len(z)):\n",
        "      a=str(z[i])\n",
        "      a=a[a.find('>'):]\n",
        "      z[i]=a[1:a.find('<')]\n",
        "    for i in range(len(z)):\n",
        "      try:\n",
        "        z[i]=float(str(z[i]).replace('k',''))\n",
        "      except:\n",
        "        z[i]=np.nan\n",
        "    return z\n",
        "  f_g(gold)\n",
        "\n",
        "  BTG=[gold[10*i] for i in range(int(len(gold)/10))]\n",
        "  BJG=[gold[10*i+1] for i in range(int(len(gold)/10))]\n",
        "  BMG=[gold[10*i+2] for i in range(int(len(gold)/10))]\n",
        "  BAG=[gold[10*i+3] for i in range(int(len(gold)/10))]\n",
        "  BSG=[gold[10*i+4] for i in range(int(len(gold)/10))]\n",
        "  RTG=[gold[10*i+5] for i in range(int(len(gold)/10))]\n",
        "  RJG=[gold[10*i+6] for i in range(int(len(gold)/10))]\n",
        "  RMG=[gold[10*i+7] for i in range(int(len(gold)/10))]\n",
        "  RAG=[gold[10*i+8] for i in range(int(len(gold)/10))]\n",
        "  RSG=[gold[10*i+9] for i in range(int(len(gold)/10))]\n",
        "#미니언처치 횟수\n",
        "  cs=soup.find_all('div',class_=(\"sb-p-stat sb-p-stat-cs\"))\n",
        "  def f_cs(z):\n",
        "    for i in range(len(z)):\n",
        "      a=str(z[i])\n",
        "      a=a[a.find('>'):]\n",
        "      try:\n",
        "        z[i]=int(a[1:a.find('<')])\n",
        "      except:\n",
        "        z[i]=np.nan\n",
        "    return z\n",
        "  f_cs(cs)\n",
        "\n",
        "  BTCS=[cs[10*i] for i in range(int(len(cs)/10))]\n",
        "  BJCS=[cs[10*i+1] for i in range(int(len(cs)/10))]\n",
        "  BMCS=[cs[10*i+2] for i in range(int(len(cs)/10))]\n",
        "  BACS=[cs[10*i+3] for i in range(int(len(cs)/10))]\n",
        "  BSCS=[cs[10*i+4] for i in range(int(len(cs)/10))]\n",
        "  RTCS=[cs[10*i+5] for i in range(int(len(cs)/10))]\n",
        "  RJCS=[cs[10*i+6] for i in range(int(len(cs)/10))]\n",
        "  RMCS=[cs[10*i+7] for i in range(int(len(cs)/10))]\n",
        "  RACS=[cs[10*i+8] for i in range(int(len(cs)/10))]\n",
        "  RSCS=[cs[10*i+9] for i in range(int(len(cs)/10))]\n",
        "#불명예경기 찾기\n",
        "  num=0\n",
        "  if len(Blue) != len(BTC):\n",
        "    num=len(Blue)-len(BTC)\n",
        "  table=soup.find_all('table',class_=\"sb\")\n",
        "  s=[]\n",
        "  for i in range(len(table)):\n",
        "    table[i]=len(str(table[i]))\n",
        "    s.append(table[i])\n",
        "  s.sort()\n",
        "  a=[]\n",
        "  for i in range(num):\n",
        "    for j in range(len(table)):\n",
        "      if s[i] == table[j]:\n",
        "        a.append(j)\n",
        "  a = list(dict.fromkeys(a))\n",
        "  a.sort()\n",
        "  for i in range(len(a)):\n",
        "    del Blue[a[i]]\n",
        "    del Red[a[i]]\n",
        "    del time[a[i]]\n",
        "    a=[x-1 for x in a]\n",
        "#데이터프레임으로 만들기\n",
        "  df=pd.DataFrame()\n",
        "  df['league']=np.nan\n",
        "  df['date']=date\n",
        "  df['Blue']=Blue\n",
        "  df['Red']=Red\n",
        "  df['winner']=win\n",
        "  df['time']=time\n",
        "  df['BT']=BT\n",
        "  df['BTC']=BTC\n",
        "  df['BTK']=BTK\n",
        "  df['BTD']=BTD\n",
        "  df['BTA']=BTA\n",
        "  df['BTCS']=BTCS\n",
        "  df['BTG']=BTG\n",
        "  df['BJ']=BJ\n",
        "  df['BJC']=BJC\n",
        "  df['BJK']=BJK\n",
        "  df['BJD']=BJD\n",
        "  df['BJA']=BJA\n",
        "  df['BJCS']=BJCS\n",
        "  df['BJG']=BJG\n",
        "  df['BM']=BM\n",
        "  df['BMC']=BMC\n",
        "  df['BMK']=BMK\n",
        "  df['BMD']=BMD\n",
        "  df['BMA']=BMA\n",
        "  df['BMCS']=BMCS\n",
        "  df['BMG']=BMG\n",
        "  df['BA']=BA\n",
        "  df['BAC']=BAC\n",
        "  df['BAK']=BAK\n",
        "  df['BAD']=BAD\n",
        "  df['BAA']=BAA\n",
        "  df['BACS']=BACS\n",
        "  df['BAG']=BAG\n",
        "  df['BS']=BS\n",
        "  df['BSC']=BSC\n",
        "  df['BSK']=BSK\n",
        "  df['BSD']=BSD\n",
        "  df['BSA']=BSA\n",
        "  df['BSCS']=BSCS\n",
        "  df['BSG']=BSG\n",
        "  df['RT']=RT\n",
        "  df['RTC']=RTC\n",
        "  df['RTK']=RTK\n",
        "  df['RTD']=RTD\n",
        "  df['RTA']=RTA\n",
        "  df['RTCS']=RTCS\n",
        "  df['RTG']=RTG\n",
        "  df['RJ']=RJ\n",
        "  df['RJC']=RJC\n",
        "  df['RJK']=RJK\n",
        "  df['RJD']=RJD\n",
        "  df['RJA']=RJA\n",
        "  df['RJCS']=RJCS\n",
        "  df['RJG']=RJG\n",
        "  df['RM']=RM\n",
        "  df['RMC']=RMC\n",
        "  df['RMK']=RMK\n",
        "  df['RMD']=RMD\n",
        "  df['RMA']=RMA\n",
        "  df['RMCS']=RMCS\n",
        "  df['RMG']=RMG\n",
        "  df['RA']=RA\n",
        "  df['RAC']=RAC\n",
        "  df['RAK']=RAK\n",
        "  df['RAD']=RAD\n",
        "  df['RAA']=RAA\n",
        "  df['RACS']=RACS\n",
        "  df['RAG']=RAG\n",
        "  df['RS']=RS\n",
        "  df['RSC']=RSC\n",
        "  df['RSK']=RSK\n",
        "  df['RSD']=RSD\n",
        "  df['RSA']=RSA\n",
        "  df['RSCS']=RSCS\n",
        "  df['RSG']=RSG\n",
        "  for i in range(len(df)):\n",
        "    df['league'][i]=league\n",
        "\n",
        "  return df"
      ],
      "execution_count": 30,
      "outputs": []
    },
    {
      "cell_type": "code",
      "metadata": {
        "id": "5jKYR_H7eV97"
      },
      "source": [
        "def get_scoreboards(url):\n",
        "  soup = BeautifulSoup(urllib.request.urlopen(url).read(), 'html.parser')\n",
        "  urls = str(soup.find_all('div',class_=\"mw-spcontent\")[0]).split('</a>,  <a href=\"')\n",
        "  urls[0]=urls[0][urls[0].find('<a href=\"'):]\n",
        "  urls[0]=urls[0][urls[0].find('/'):]\n",
        "  for i in range(len(urls)):\n",
        "    urls[i]='https://lol.fandom.com'+urls[i][:urls[i].find('\"')]\n",
        "  return urls"
      ],
      "execution_count": 31,
      "outputs": []
    },
    {
      "cell_type": "code",
      "metadata": {
        "id": "IHiNm2ceqpiz"
      },
      "source": [
        "def get_all_scores(urlList):\n",
        "  df=pd.DataFrame()\n",
        "  for i in urlList:\n",
        "    df1=get_score(i)\n",
        "    df=pd.concat([df,df1])\n",
        "    #print(df)\n",
        "    #time.sleep(5)\n",
        "    #output.clear() #여기까지 세 줄 확인용도\n",
        "    time.sleep(2)\n",
        "  return df"
      ],
      "execution_count": 32,
      "outputs": []
    },
    {
      "cell_type": "markdown",
      "metadata": {
        "id": "USYEnvlz3NHx"
      },
      "source": [
        "#실행"
      ]
    },
    {
      "cell_type": "markdown",
      "metadata": {
        "id": "Ky0I7kS2iVeK"
      },
      "source": [
        "여러가지 문제   \n",
        "1 fsspec 설치 문제   \n",
        "2 런타임 끊김   \n",
        "3 블루스크린(윈도우버전문제)   \n",
        "4 ip차단   \n",
        "5 \n"
      ]
    },
    {
      "cell_type": "code",
      "metadata": {
        "id": "5x9xJrnnjrNz"
      },
      "source": [
        "'''\n",
        "런타임 끊김 방지 코드\n",
        "\n",
        "1 ctrl shift J\n",
        "2 콘솔에 아래 코드 복사 후 엔터\n",
        "\n",
        "function ClickConnect(){\n",
        "    console.log(\"코랩 연결 끊김 방지\"); \n",
        "    document.querySelector(\"colab-toolbar-button#connect\").click() \n",
        "}\n",
        "setInterval(ClickConnect, 60 * 1000)"
      ],
      "execution_count": null,
      "outputs": []
    },
    {
      "cell_type": "code",
      "metadata": {
        "id": "RbPK5KMQhkhr"
      },
      "source": [
        "url1='https://lol.fandom.com/wiki/Special:CargoQuery?limit=5000&offset=0&tables=ScoreboardGames&fields=_pageName%3DPage&where=&join_on=&group_by=ScoreboardGames.OverviewPage%2C+ScoreboardGames._pageName%2C+&having=&format=&order_by_options%5B0%5D=ASC'"
      ],
      "execution_count": 33,
      "outputs": []
    },
    {
      "cell_type": "code",
      "metadata": {
        "id": "JsFQ-lqrsmMg"
      },
      "source": [
        "url2='https://lol.fandom.com/wiki/Special:CargoQuery?limit=5000&offset=5000&tables=ScoreboardGames&fields=_pageName%3DPage&where=&join_on=&group_by=ScoreboardGames.OverviewPage%2C+ScoreboardGames._pageName%2C+&having=&format=&order_by_options%5B0%5D=ASC'"
      ],
      "execution_count": 34,
      "outputs": []
    },
    {
      "cell_type": "code",
      "metadata": {
        "colab": {
          "base_uri": "https://localhost:8080/"
        },
        "id": "R8JdkhLYg2JU",
        "outputId": "53354bca-965a-4cab-a035-8b3167122054"
      },
      "source": [
        "urls = get_scoreboards(url1) + get_scoreboards(url2)\n",
        "urls = [urls[x:x+500] for x in range(0, len(urls), 500)]\n",
        "len(urls), len(urls[0]), len(urls[len(urls)-1])"
      ],
      "execution_count": 35,
      "outputs": [
        {
          "output_type": "execute_result",
          "data": {
            "text/plain": [
              "(13, 500, 225)"
            ]
          },
          "metadata": {},
          "execution_count": 35
        }
      ]
    },
    {
      "cell_type": "code",
      "metadata": {
        "id": "nvVSfe3thskZ"
      },
      "source": [
        "df=get_all_scores(urls[0])\n",
        "df.to_csv('league_data0.csv', index=False)\n",
        "files.download('league_data0.csv') "
      ],
      "execution_count": null,
      "outputs": []
    },
    {
      "cell_type": "code",
      "metadata": {
        "id": "8FKrVAlph8V1"
      },
      "source": [
        "df=get_all_scores(urls[1])\n",
        "df.to_csv('league_data1.csv', index=False)\n",
        "files.download('league_data1.csv') "
      ],
      "execution_count": null,
      "outputs": []
    },
    {
      "cell_type": "code",
      "metadata": {
        "id": "oSIx4OSoh8n1"
      },
      "source": [
        "df=get_all_scores(urls[2])\n",
        "df.to_csv('league_data2.csv', index=False)\n",
        "files.download('league_data2.csv') "
      ],
      "execution_count": null,
      "outputs": []
    },
    {
      "cell_type": "code",
      "metadata": {
        "id": "7rp_E6Xkh8xB"
      },
      "source": [
        "df=get_all_scores(urls[3])\n",
        "df.to_csv('league_data3.csv', index=False)\n",
        "files.download('league_data3.csv') "
      ],
      "execution_count": null,
      "outputs": []
    },
    {
      "cell_type": "code",
      "metadata": {
        "id": "DT5n4g1_h85P"
      },
      "source": [
        "df=get_all_scores(urls[4])\n",
        "df.to_csv('league_data4.csv', index=False)\n",
        "files.download('league_data4.csv') "
      ],
      "execution_count": null,
      "outputs": []
    },
    {
      "cell_type": "code",
      "metadata": {
        "id": "cH2Ig2cTh9BH"
      },
      "source": [
        "df=get_all_scores(urls[5])\n",
        "df.to_csv('league_data5.csv', index=False)\n",
        "files.download('league_data5.csv') "
      ],
      "execution_count": null,
      "outputs": []
    },
    {
      "cell_type": "code",
      "metadata": {
        "id": "i34jV7aeh9IW"
      },
      "source": [
        "df=get_all_scores(urls[6])\n",
        "df.to_csv('league_data6.csv', index=False)\n",
        "files.download('league_data6.csv') "
      ],
      "execution_count": null,
      "outputs": []
    },
    {
      "cell_type": "code",
      "metadata": {
        "colab": {
          "base_uri": "https://localhost:8080/",
          "height": 179
        },
        "id": "VguJWsYjh9Qd",
        "outputId": "2450a1a6-5139-4ff1-c844-b36b2b00ee6f"
      },
      "source": [
        "df=get_all_scores(urls[7])\n",
        "df.to_csv('league_data7.csv', index=False)\n",
        "files.download('league_data7.csv') "
      ],
      "execution_count": 36,
      "outputs": [
        {
          "output_type": "stream",
          "name": "stderr",
          "text": [
            "/usr/local/lib/python3.7/dist-packages/ipykernel_launcher.py:328: SettingWithCopyWarning: \n",
            "A value is trying to be set on a copy of a slice from a DataFrame\n",
            "\n",
            "See the caveats in the documentation: https://pandas.pydata.org/pandas-docs/stable/user_guide/indexing.html#returning-a-view-versus-a-copy\n",
            "/usr/local/lib/python3.7/dist-packages/pandas/core/indexing.py:670: SettingWithCopyWarning: \n",
            "A value is trying to be set on a copy of a slice from a DataFrame\n",
            "\n",
            "See the caveats in the documentation: https://pandas.pydata.org/pandas-docs/stable/user_guide/indexing.html#returning-a-view-versus-a-copy\n",
            "  iloc._setitem_with_indexer(indexer, value)\n"
          ]
        },
        {
          "output_type": "display_data",
          "data": {
            "application/javascript": [
              "\n",
              "    async function download(id, filename, size) {\n",
              "      if (!google.colab.kernel.accessAllowed) {\n",
              "        return;\n",
              "      }\n",
              "      const div = document.createElement('div');\n",
              "      const label = document.createElement('label');\n",
              "      label.textContent = `Downloading \"${filename}\": `;\n",
              "      div.appendChild(label);\n",
              "      const progress = document.createElement('progress');\n",
              "      progress.max = size;\n",
              "      div.appendChild(progress);\n",
              "      document.body.appendChild(div);\n",
              "\n",
              "      const buffers = [];\n",
              "      let downloaded = 0;\n",
              "\n",
              "      const channel = await google.colab.kernel.comms.open(id);\n",
              "      // Send a message to notify the kernel that we're ready.\n",
              "      channel.send({})\n",
              "\n",
              "      for await (const message of channel.messages) {\n",
              "        // Send a message to notify the kernel that we're ready.\n",
              "        channel.send({})\n",
              "        if (message.buffers) {\n",
              "          for (const buffer of message.buffers) {\n",
              "            buffers.push(buffer);\n",
              "            downloaded += buffer.byteLength;\n",
              "            progress.value = downloaded;\n",
              "          }\n",
              "        }\n",
              "      }\n",
              "      const blob = new Blob(buffers, {type: 'application/binary'});\n",
              "      const a = document.createElement('a');\n",
              "      a.href = window.URL.createObjectURL(blob);\n",
              "      a.download = filename;\n",
              "      div.appendChild(a);\n",
              "      a.click();\n",
              "      div.remove();\n",
              "    }\n",
              "  "
            ],
            "text/plain": [
              "<IPython.core.display.Javascript object>"
            ]
          },
          "metadata": {}
        },
        {
          "output_type": "display_data",
          "data": {
            "application/javascript": [
              "download(\"download_9e1f3baa-f8f3-4482-865f-e194c99fd86e\", \"league_data7.csv\", 1926708)"
            ],
            "text/plain": [
              "<IPython.core.display.Javascript object>"
            ]
          },
          "metadata": {}
        }
      ]
    },
    {
      "cell_type": "code",
      "metadata": {
        "colab": {
          "base_uri": "https://localhost:8080/",
          "height": 179
        },
        "id": "iGDxlOuQh9Yj",
        "outputId": "2de7ee7c-ce8c-4b43-8b84-42c2e51fba84"
      },
      "source": [
        "df=get_all_scores(urls[8])\n",
        "df.to_csv('league_data8.csv', index=False)\n",
        "files.download('league_data8.csv') "
      ],
      "execution_count": 37,
      "outputs": [
        {
          "output_type": "stream",
          "name": "stderr",
          "text": [
            "/usr/local/lib/python3.7/dist-packages/ipykernel_launcher.py:328: SettingWithCopyWarning: \n",
            "A value is trying to be set on a copy of a slice from a DataFrame\n",
            "\n",
            "See the caveats in the documentation: https://pandas.pydata.org/pandas-docs/stable/user_guide/indexing.html#returning-a-view-versus-a-copy\n",
            "/usr/local/lib/python3.7/dist-packages/pandas/core/indexing.py:670: SettingWithCopyWarning: \n",
            "A value is trying to be set on a copy of a slice from a DataFrame\n",
            "\n",
            "See the caveats in the documentation: https://pandas.pydata.org/pandas-docs/stable/user_guide/indexing.html#returning-a-view-versus-a-copy\n",
            "  iloc._setitem_with_indexer(indexer, value)\n"
          ]
        },
        {
          "output_type": "display_data",
          "data": {
            "application/javascript": [
              "\n",
              "    async function download(id, filename, size) {\n",
              "      if (!google.colab.kernel.accessAllowed) {\n",
              "        return;\n",
              "      }\n",
              "      const div = document.createElement('div');\n",
              "      const label = document.createElement('label');\n",
              "      label.textContent = `Downloading \"${filename}\": `;\n",
              "      div.appendChild(label);\n",
              "      const progress = document.createElement('progress');\n",
              "      progress.max = size;\n",
              "      div.appendChild(progress);\n",
              "      document.body.appendChild(div);\n",
              "\n",
              "      const buffers = [];\n",
              "      let downloaded = 0;\n",
              "\n",
              "      const channel = await google.colab.kernel.comms.open(id);\n",
              "      // Send a message to notify the kernel that we're ready.\n",
              "      channel.send({})\n",
              "\n",
              "      for await (const message of channel.messages) {\n",
              "        // Send a message to notify the kernel that we're ready.\n",
              "        channel.send({})\n",
              "        if (message.buffers) {\n",
              "          for (const buffer of message.buffers) {\n",
              "            buffers.push(buffer);\n",
              "            downloaded += buffer.byteLength;\n",
              "            progress.value = downloaded;\n",
              "          }\n",
              "        }\n",
              "      }\n",
              "      const blob = new Blob(buffers, {type: 'application/binary'});\n",
              "      const a = document.createElement('a');\n",
              "      a.href = window.URL.createObjectURL(blob);\n",
              "      a.download = filename;\n",
              "      div.appendChild(a);\n",
              "      a.click();\n",
              "      div.remove();\n",
              "    }\n",
              "  "
            ],
            "text/plain": [
              "<IPython.core.display.Javascript object>"
            ]
          },
          "metadata": {}
        },
        {
          "output_type": "display_data",
          "data": {
            "application/javascript": [
              "download(\"download_b4279775-9522-47a4-81e4-6df51e539bcd\", \"league_data8.csv\", 2120086)"
            ],
            "text/plain": [
              "<IPython.core.display.Javascript object>"
            ]
          },
          "metadata": {}
        }
      ]
    },
    {
      "cell_type": "code",
      "metadata": {
        "colab": {
          "base_uri": "https://localhost:8080/",
          "height": 1000
        },
        "id": "RvKcVuCvh9gj",
        "outputId": "9a65f788-f9b0-49de-d2d4-e197abafbefe"
      },
      "source": [
        "df=get_all_scores(urls[9])\n",
        "df.to_csv('league_data9.csv', index=False)\n",
        "files.download('league_data9.csv') "
      ],
      "execution_count": 38,
      "outputs": [
        {
          "output_type": "stream",
          "name": "stderr",
          "text": [
            "/usr/local/lib/python3.7/dist-packages/ipykernel_launcher.py:328: SettingWithCopyWarning: \n",
            "A value is trying to be set on a copy of a slice from a DataFrame\n",
            "\n",
            "See the caveats in the documentation: https://pandas.pydata.org/pandas-docs/stable/user_guide/indexing.html#returning-a-view-versus-a-copy\n",
            "/usr/local/lib/python3.7/dist-packages/pandas/core/indexing.py:670: SettingWithCopyWarning: \n",
            "A value is trying to be set on a copy of a slice from a DataFrame\n",
            "\n",
            "See the caveats in the documentation: https://pandas.pydata.org/pandas-docs/stable/user_guide/indexing.html#returning-a-view-versus-a-copy\n",
            "  iloc._setitem_with_indexer(indexer, value)\n"
          ]
        },
        {
          "output_type": "error",
          "ename": "ValueError",
          "evalue": "ignored",
          "traceback": [
            "\u001b[0;31m---------------------------------------------------------------------------\u001b[0m",
            "\u001b[0;31mValueError\u001b[0m                                Traceback (most recent call last)",
            "\u001b[0;32m<ipython-input-38-19ff1111b36d>\u001b[0m in \u001b[0;36m<module>\u001b[0;34m()\u001b[0m\n\u001b[0;32m----> 1\u001b[0;31m \u001b[0mdf\u001b[0m\u001b[0;34m=\u001b[0m\u001b[0mget_all_scores\u001b[0m\u001b[0;34m(\u001b[0m\u001b[0murls\u001b[0m\u001b[0;34m[\u001b[0m\u001b[0;36m9\u001b[0m\u001b[0;34m]\u001b[0m\u001b[0;34m)\u001b[0m\u001b[0;34m\u001b[0m\u001b[0;34m\u001b[0m\u001b[0m\n\u001b[0m\u001b[1;32m      2\u001b[0m \u001b[0mdf\u001b[0m\u001b[0;34m.\u001b[0m\u001b[0mto_csv\u001b[0m\u001b[0;34m(\u001b[0m\u001b[0;34m'league_data9.csv'\u001b[0m\u001b[0;34m,\u001b[0m \u001b[0mindex\u001b[0m\u001b[0;34m=\u001b[0m\u001b[0;32mFalse\u001b[0m\u001b[0;34m)\u001b[0m\u001b[0;34m\u001b[0m\u001b[0;34m\u001b[0m\u001b[0m\n\u001b[1;32m      3\u001b[0m \u001b[0mfiles\u001b[0m\u001b[0;34m.\u001b[0m\u001b[0mdownload\u001b[0m\u001b[0;34m(\u001b[0m\u001b[0;34m'league_data9.csv'\u001b[0m\u001b[0;34m)\u001b[0m\u001b[0;34m\u001b[0m\u001b[0;34m\u001b[0m\u001b[0m\n",
            "\u001b[0;32m<ipython-input-32-3f5d6c798350>\u001b[0m in \u001b[0;36mget_all_scores\u001b[0;34m(urlList)\u001b[0m\n\u001b[1;32m      2\u001b[0m   \u001b[0mdf\u001b[0m\u001b[0;34m=\u001b[0m\u001b[0mpd\u001b[0m\u001b[0;34m.\u001b[0m\u001b[0mDataFrame\u001b[0m\u001b[0;34m(\u001b[0m\u001b[0;34m)\u001b[0m\u001b[0;34m\u001b[0m\u001b[0;34m\u001b[0m\u001b[0m\n\u001b[1;32m      3\u001b[0m   \u001b[0;32mfor\u001b[0m \u001b[0mi\u001b[0m \u001b[0;32min\u001b[0m \u001b[0murlList\u001b[0m\u001b[0;34m:\u001b[0m\u001b[0;34m\u001b[0m\u001b[0;34m\u001b[0m\u001b[0m\n\u001b[0;32m----> 4\u001b[0;31m     \u001b[0mdf1\u001b[0m\u001b[0;34m=\u001b[0m\u001b[0mget_score\u001b[0m\u001b[0;34m(\u001b[0m\u001b[0mi\u001b[0m\u001b[0;34m)\u001b[0m\u001b[0;34m\u001b[0m\u001b[0;34m\u001b[0m\u001b[0m\n\u001b[0m\u001b[1;32m      5\u001b[0m     \u001b[0mdf\u001b[0m\u001b[0;34m=\u001b[0m\u001b[0mpd\u001b[0m\u001b[0;34m.\u001b[0m\u001b[0mconcat\u001b[0m\u001b[0;34m(\u001b[0m\u001b[0;34m[\u001b[0m\u001b[0mdf\u001b[0m\u001b[0;34m,\u001b[0m\u001b[0mdf1\u001b[0m\u001b[0;34m]\u001b[0m\u001b[0;34m)\u001b[0m\u001b[0;34m\u001b[0m\u001b[0;34m\u001b[0m\u001b[0m\n\u001b[1;32m      6\u001b[0m     \u001b[0;31m#print(df)\u001b[0m\u001b[0;34m\u001b[0m\u001b[0;34m\u001b[0m\u001b[0;34m\u001b[0m\u001b[0m\n",
            "\u001b[0;32m<ipython-input-30-5e5886a6c332>\u001b[0m in \u001b[0;36mget_score\u001b[0;34m(url)\u001b[0m\n\u001b[1;32m    254\u001b[0m   \u001b[0mdf\u001b[0m\u001b[0;34m[\u001b[0m\u001b[0;34m'Red'\u001b[0m\u001b[0;34m]\u001b[0m\u001b[0;34m=\u001b[0m\u001b[0mRed\u001b[0m\u001b[0;34m\u001b[0m\u001b[0;34m\u001b[0m\u001b[0m\n\u001b[1;32m    255\u001b[0m   \u001b[0mdf\u001b[0m\u001b[0;34m[\u001b[0m\u001b[0;34m'winner'\u001b[0m\u001b[0;34m]\u001b[0m\u001b[0;34m=\u001b[0m\u001b[0mwin\u001b[0m\u001b[0;34m\u001b[0m\u001b[0;34m\u001b[0m\u001b[0m\n\u001b[0;32m--> 256\u001b[0;31m   \u001b[0mdf\u001b[0m\u001b[0;34m[\u001b[0m\u001b[0;34m'time'\u001b[0m\u001b[0;34m]\u001b[0m\u001b[0;34m=\u001b[0m\u001b[0mtime\u001b[0m\u001b[0;34m\u001b[0m\u001b[0;34m\u001b[0m\u001b[0m\n\u001b[0m\u001b[1;32m    257\u001b[0m   \u001b[0mdf\u001b[0m\u001b[0;34m[\u001b[0m\u001b[0;34m'BT'\u001b[0m\u001b[0;34m]\u001b[0m\u001b[0;34m=\u001b[0m\u001b[0mBT\u001b[0m\u001b[0;34m\u001b[0m\u001b[0;34m\u001b[0m\u001b[0m\n\u001b[1;32m    258\u001b[0m   \u001b[0mdf\u001b[0m\u001b[0;34m[\u001b[0m\u001b[0;34m'BTC'\u001b[0m\u001b[0;34m]\u001b[0m\u001b[0;34m=\u001b[0m\u001b[0mBTC\u001b[0m\u001b[0;34m\u001b[0m\u001b[0;34m\u001b[0m\u001b[0m\n",
            "\u001b[0;32m/usr/local/lib/python3.7/dist-packages/pandas/core/frame.py\u001b[0m in \u001b[0;36m__setitem__\u001b[0;34m(self, key, value)\u001b[0m\n\u001b[1;32m   3042\u001b[0m         \u001b[0;32melse\u001b[0m\u001b[0;34m:\u001b[0m\u001b[0;34m\u001b[0m\u001b[0;34m\u001b[0m\u001b[0m\n\u001b[1;32m   3043\u001b[0m             \u001b[0;31m# set column\u001b[0m\u001b[0;34m\u001b[0m\u001b[0;34m\u001b[0m\u001b[0;34m\u001b[0m\u001b[0m\n\u001b[0;32m-> 3044\u001b[0;31m             \u001b[0mself\u001b[0m\u001b[0;34m.\u001b[0m\u001b[0m_set_item\u001b[0m\u001b[0;34m(\u001b[0m\u001b[0mkey\u001b[0m\u001b[0;34m,\u001b[0m \u001b[0mvalue\u001b[0m\u001b[0;34m)\u001b[0m\u001b[0;34m\u001b[0m\u001b[0;34m\u001b[0m\u001b[0m\n\u001b[0m\u001b[1;32m   3045\u001b[0m \u001b[0;34m\u001b[0m\u001b[0m\n\u001b[1;32m   3046\u001b[0m     \u001b[0;32mdef\u001b[0m \u001b[0m_setitem_slice\u001b[0m\u001b[0;34m(\u001b[0m\u001b[0mself\u001b[0m\u001b[0;34m,\u001b[0m \u001b[0mkey\u001b[0m\u001b[0;34m:\u001b[0m \u001b[0mslice\u001b[0m\u001b[0;34m,\u001b[0m \u001b[0mvalue\u001b[0m\u001b[0;34m)\u001b[0m\u001b[0;34m:\u001b[0m\u001b[0;34m\u001b[0m\u001b[0;34m\u001b[0m\u001b[0m\n",
            "\u001b[0;32m/usr/local/lib/python3.7/dist-packages/pandas/core/frame.py\u001b[0m in \u001b[0;36m_set_item\u001b[0;34m(self, key, value)\u001b[0m\n\u001b[1;32m   3118\u001b[0m         \"\"\"\n\u001b[1;32m   3119\u001b[0m         \u001b[0mself\u001b[0m\u001b[0;34m.\u001b[0m\u001b[0m_ensure_valid_index\u001b[0m\u001b[0;34m(\u001b[0m\u001b[0mvalue\u001b[0m\u001b[0;34m)\u001b[0m\u001b[0;34m\u001b[0m\u001b[0;34m\u001b[0m\u001b[0m\n\u001b[0;32m-> 3120\u001b[0;31m         \u001b[0mvalue\u001b[0m \u001b[0;34m=\u001b[0m \u001b[0mself\u001b[0m\u001b[0;34m.\u001b[0m\u001b[0m_sanitize_column\u001b[0m\u001b[0;34m(\u001b[0m\u001b[0mkey\u001b[0m\u001b[0;34m,\u001b[0m \u001b[0mvalue\u001b[0m\u001b[0;34m)\u001b[0m\u001b[0;34m\u001b[0m\u001b[0;34m\u001b[0m\u001b[0m\n\u001b[0m\u001b[1;32m   3121\u001b[0m         \u001b[0mNDFrame\u001b[0m\u001b[0;34m.\u001b[0m\u001b[0m_set_item\u001b[0m\u001b[0;34m(\u001b[0m\u001b[0mself\u001b[0m\u001b[0;34m,\u001b[0m \u001b[0mkey\u001b[0m\u001b[0;34m,\u001b[0m \u001b[0mvalue\u001b[0m\u001b[0;34m)\u001b[0m\u001b[0;34m\u001b[0m\u001b[0;34m\u001b[0m\u001b[0m\n\u001b[1;32m   3122\u001b[0m \u001b[0;34m\u001b[0m\u001b[0m\n",
            "\u001b[0;32m/usr/local/lib/python3.7/dist-packages/pandas/core/frame.py\u001b[0m in \u001b[0;36m_sanitize_column\u001b[0;34m(self, key, value, broadcast)\u001b[0m\n\u001b[1;32m   3766\u001b[0m \u001b[0;34m\u001b[0m\u001b[0m\n\u001b[1;32m   3767\u001b[0m             \u001b[0;31m# turn me into an ndarray\u001b[0m\u001b[0;34m\u001b[0m\u001b[0;34m\u001b[0m\u001b[0;34m\u001b[0m\u001b[0m\n\u001b[0;32m-> 3768\u001b[0;31m             \u001b[0mvalue\u001b[0m \u001b[0;34m=\u001b[0m \u001b[0msanitize_index\u001b[0m\u001b[0;34m(\u001b[0m\u001b[0mvalue\u001b[0m\u001b[0;34m,\u001b[0m \u001b[0mself\u001b[0m\u001b[0;34m.\u001b[0m\u001b[0mindex\u001b[0m\u001b[0;34m)\u001b[0m\u001b[0;34m\u001b[0m\u001b[0;34m\u001b[0m\u001b[0m\n\u001b[0m\u001b[1;32m   3769\u001b[0m             \u001b[0;32mif\u001b[0m \u001b[0;32mnot\u001b[0m \u001b[0misinstance\u001b[0m\u001b[0;34m(\u001b[0m\u001b[0mvalue\u001b[0m\u001b[0;34m,\u001b[0m \u001b[0;34m(\u001b[0m\u001b[0mnp\u001b[0m\u001b[0;34m.\u001b[0m\u001b[0mndarray\u001b[0m\u001b[0;34m,\u001b[0m \u001b[0mIndex\u001b[0m\u001b[0;34m)\u001b[0m\u001b[0;34m)\u001b[0m\u001b[0;34m:\u001b[0m\u001b[0;34m\u001b[0m\u001b[0;34m\u001b[0m\u001b[0m\n\u001b[1;32m   3770\u001b[0m                 \u001b[0;32mif\u001b[0m \u001b[0misinstance\u001b[0m\u001b[0;34m(\u001b[0m\u001b[0mvalue\u001b[0m\u001b[0;34m,\u001b[0m \u001b[0mlist\u001b[0m\u001b[0;34m)\u001b[0m \u001b[0;32mand\u001b[0m \u001b[0mlen\u001b[0m\u001b[0;34m(\u001b[0m\u001b[0mvalue\u001b[0m\u001b[0;34m)\u001b[0m \u001b[0;34m>\u001b[0m \u001b[0;36m0\u001b[0m\u001b[0;34m:\u001b[0m\u001b[0;34m\u001b[0m\u001b[0;34m\u001b[0m\u001b[0m\n",
            "\u001b[0;32m/usr/local/lib/python3.7/dist-packages/pandas/core/internals/construction.py\u001b[0m in \u001b[0;36msanitize_index\u001b[0;34m(data, index)\u001b[0m\n\u001b[1;32m    746\u001b[0m     \u001b[0;32mif\u001b[0m \u001b[0mlen\u001b[0m\u001b[0;34m(\u001b[0m\u001b[0mdata\u001b[0m\u001b[0;34m)\u001b[0m \u001b[0;34m!=\u001b[0m \u001b[0mlen\u001b[0m\u001b[0;34m(\u001b[0m\u001b[0mindex\u001b[0m\u001b[0;34m)\u001b[0m\u001b[0;34m:\u001b[0m\u001b[0;34m\u001b[0m\u001b[0;34m\u001b[0m\u001b[0m\n\u001b[1;32m    747\u001b[0m         raise ValueError(\n\u001b[0;32m--> 748\u001b[0;31m             \u001b[0;34m\"Length of values \"\u001b[0m\u001b[0;34m\u001b[0m\u001b[0;34m\u001b[0m\u001b[0m\n\u001b[0m\u001b[1;32m    749\u001b[0m             \u001b[0;34mf\"({len(data)}) \"\u001b[0m\u001b[0;34m\u001b[0m\u001b[0;34m\u001b[0m\u001b[0m\n\u001b[1;32m    750\u001b[0m             \u001b[0;34m\"does not match length of index \"\u001b[0m\u001b[0;34m\u001b[0m\u001b[0;34m\u001b[0m\u001b[0m\n",
            "\u001b[0;31mValueError\u001b[0m: Length of values (4) does not match length of index (5)"
          ]
        }
      ]
    },
    {
      "cell_type": "code",
      "metadata": {
        "id": "Eoz0QaDIh9pt"
      },
      "source": [
        "df=get_all_scores(urls[10])\n",
        "df.to_csv('league_data10.csv', index=False)\n",
        "files.download('league_data10.csv') "
      ],
      "execution_count": null,
      "outputs": []
    },
    {
      "cell_type": "code",
      "metadata": {
        "id": "PrcaKx9Vh9yD"
      },
      "source": [
        "df=get_all_scores(urls[11])\n",
        "df.to_csv('league_data11.csv', index=False)\n",
        "files.download('league_data11.csv') "
      ],
      "execution_count": null,
      "outputs": []
    },
    {
      "cell_type": "code",
      "metadata": {
        "id": "3mSUXxiyh97Q"
      },
      "source": [
        "df=get_all_scores(urls[12])\n",
        "df.to_csv('league_data12.csv', index=False)\n",
        "files.download('league_data12.csv') "
      ],
      "execution_count": null,
      "outputs": []
    },
    {
      "cell_type": "code",
      "metadata": {
        "id": "B6qgkgbBkHhN"
      },
      "source": [
        "files.upload()"
      ],
      "execution_count": null,
      "outputs": []
    },
    {
      "cell_type": "code",
      "metadata": {
        "id": "8O4-I9pCkKJI"
      },
      "source": [
        "df=pd.DataFrame()\n",
        "for i in range(13):\n",
        "  df1=pd.read_csv(f'league_data{i}.csv')\n",
        "  df=pd.concat([df,df1])\n",
        "df.reset_index(drop=True)"
      ],
      "execution_count": null,
      "outputs": []
    }
  ]
}